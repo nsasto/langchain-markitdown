{
 "cells": [
  {
   "cell_type": "code",
   "execution_count": 1,
   "id": "24342abd",
   "metadata": {},
   "outputs": [
    {
     "data": {
      "text/plain": [
       "True"
      ]
     },
     "execution_count": 1,
     "metadata": {},
     "output_type": "execute_result"
    }
   ],
   "source": [
    "import json\n",
    "from dotenv import load_dotenv\n",
    "\n",
    "\n",
    "load_dotenv(override=True)"
   ]
  },
  {
   "cell_type": "code",
   "execution_count": 2,
   "id": "3ffeb5a1",
   "metadata": {},
   "outputs": [],
   "source": [
    "def pretty_print(d):\n",
    "    for key, value in d.items():\n",
    "        print(f\"{key:<20}: {value}\")\n",
    "\n",
    "def show_page(result, page_num=0, char_count=100):\n",
    "    print(f\"{len(result)} documents returned\\n\")\n",
    "    pretty_print(result[page_num].metadata)\n",
    "    print(f\"\\nContent:\")\n",
    "    print(result[page_num].page_content[:char_count])\n"
   ]
  },
  {
   "cell_type": "markdown",
   "id": "432264c9",
   "metadata": {},
   "source": [
    "### XLSX    \n"
   ]
  },
  {
   "cell_type": "code",
   "execution_count": 3,
   "id": "ebc14716",
   "metadata": {},
   "outputs": [],
   "source": [
    "xls= \"../test_data/test_xlsx.xlsx\""
   ]
  },
  {
   "cell_type": "code",
   "execution_count": 4,
   "id": "1b76b799",
   "metadata": {},
   "outputs": [
    {
     "name": "stderr",
     "output_type": "stream",
     "text": [
      "/home/user/langchain-markitdown/.venv/lib/python3.10/site-packages/pydub/utils.py:170: RuntimeWarning: Couldn't find ffmpeg or avconv - defaulting to ffmpeg, but may not work\n",
      "  warn(\"Couldn't find ffmpeg or avconv - defaulting to ffmpeg, but may not work\", RuntimeWarning)\n"
     ]
    }
   ],
   "source": [
    "from langchain_markitdown import XlsxLoader\n",
    "md = XlsxLoader(file_path=xls, split_by_page=True) \n",
    "result = md.load()"
   ]
  },
  {
   "cell_type": "code",
   "execution_count": 5,
   "id": "cfa5288c",
   "metadata": {},
   "outputs": [
    {
     "name": "stdout",
     "output_type": "stream",
     "text": [
      "1 documents returned\n",
      "\n",
      "source              : ../test_data/test_xlsx.xlsx\n",
      "file_name           : test_xlsx.xlsx\n",
      "file_size           : 16213\n",
      "conversion_success  : True\n",
      "page_number         : Sheet1\n",
      "\n",
      "Content:\n",
      "| Unnamed: 0 | First Name | Last Name | Gender | Country | Age | Date | Id |\n",
      "| --- | --- | --- | ---\n"
     ]
    }
   ],
   "source": [
    "show_page(result)"
   ]
  },
  {
   "cell_type": "markdown",
   "id": "247580d0",
   "metadata": {},
   "source": [
    "### Word"
   ]
  },
  {
   "cell_type": "code",
   "execution_count": 6,
   "id": "d441286c",
   "metadata": {},
   "outputs": [],
   "source": [
    "word = \"../test_data/test_docx.docx\"\n",
    "from langchain_markitdown import DocxLoader\n",
    "md = DocxLoader(file_path=word, split_by_page=False) # Set to True to enable plugins\n",
    "result = md.load()"
   ]
  },
  {
   "cell_type": "code",
   "execution_count": 7,
   "id": "86312c6b",
   "metadata": {},
   "outputs": [
    {
     "name": "stdout",
     "output_type": "stream",
     "text": [
      "1 documents returned\n",
      "\n",
      "source              : ../test_data/test_docx.docx\n",
      "file_name           : test_docx.docx\n",
      "file_size           : 327119\n",
      "conversion_success  : True\n",
      "metadata_extraction_error: No module named 'exceptions'\n",
      "content_type        : document_full\n",
      "\n",
      "Content:\n",
      "Lorem ipsum\n",
      "\n",
      "# Lorem ipsum dolor sit amet, consectetur adipiscing elit. Nunc ac faucibus odio.\n",
      "\n",
      "Vest\n"
     ]
    }
   ],
   "source": [
    "show_page(result)"
   ]
  },
  {
   "cell_type": "markdown",
   "id": "8fa37290",
   "metadata": {},
   "source": [
    "### PPT"
   ]
  },
  {
   "cell_type": "code",
   "execution_count": 8,
   "id": "3ce3286f",
   "metadata": {},
   "outputs": [],
   "source": [
    "ppt_file = \"../test_data/test_pptx.pptx\"\n",
    "from langchain_markitdown import PptxLoader\n",
    "md = PptxLoader(file_path=ppt_file, split_by_page=True)\n",
    "result = md.load()"
   ]
  },
  {
   "cell_type": "code",
   "execution_count": 9,
   "id": "a09f04fc",
   "metadata": {},
   "outputs": [
    {
     "name": "stdout",
     "output_type": "stream",
     "text": [
      "15 documents returned\n",
      "\n",
      "source              : ../test_data/test_pptx.pptx\n",
      "file_name           : test_pptx.pptx\n",
      "file_size           : 33213951\n",
      "conversion_success  : True\n",
      "slide_count         : 8\n",
      "author              : Lingineni, Raviteja\n",
      "title               : feedback@customer.cool\n",
      "created             : 2018-06-23 03:43:30\n",
      "modified            : 2025-04-10 19:35:33\n",
      "last_modified_by    : Nathan Sasto\n",
      "revision            : 51\n",
      "image_count         : 12\n",
      "text_box_count      : 2\n",
      "chart_count         : 0\n",
      "table_count         : 0\n",
      "page_number         : 3\n",
      "content_type        : presentation_slide\n",
      "\n",
      "Content:\n",
      "# Pictures and lines\n",
      "\n",
      "![Close-up of panellets](Picture2.jpg)\n",
      "\n",
      "![Person packing yellow suitcase](Picture8.jpg)\n",
      "\n",
      "![Person planking](Picture12.jpg)\n",
      "\n",
      "![Wedding by the beach](Picture10.jpg)\n",
      "\n"
     ]
    }
   ],
   "source": [
    "show_page(result,4, 10000)"
   ]
  },
  {
   "cell_type": "markdown",
   "id": "ab330ca6",
   "metadata": {},
   "source": [
    "### Using LLM"
   ]
  },
  {
   "cell_type": "code",
   "execution_count": 10,
   "id": "00dac38a",
   "metadata": {},
   "outputs": [
    {
     "name": "stderr",
     "output_type": "stream",
     "text": [
      "2025-04-11 11:29:59,122 - langchain_markitdown.base_loader.PptxLoader - INFO - Initialized PptxLoader for ../test_data/test_pptx.pptx\n",
      "2025-04-11 11:29:59,130 - langchain_markitdown.base_loader.PptxLoader - INFO - Initialized PptxLoader for ../test_data/test_pptx.pptx with split_by_page=True\n",
      "2025-04-11 11:29:59,131 - langchain_markitdown.base_loader.PptxLoader - INFO - Langchain LLM for image captioning: ChatOpenAI\n",
      "2025-04-11 11:29:59,133 - langchain_markitdown.base_loader.PptxLoader - INFO - Starting to load PPTX file: ../test_data/test_pptx.pptx\n",
      "2025-04-11 11:29:59,215 - langchain_markitdown.base_loader.PptxLoader - INFO - Extracting metadata from PPTX file\n",
      "2025-04-11 11:29:59,216 - langchain_markitdown.base_loader.PptxLoader - INFO - Found 8 slides in the presentation\n",
      "2025-04-11 11:29:59,302 - langchain_markitdown.base_loader.PptxLoader - INFO - Converting PPTX to markdown\n",
      "2025-04-11 11:29:59,482 - langchain_markitdown.base_loader.PptxLoader - INFO - Processing images and generating captions...\n",
      "2025-04-11 11:29:59,580 - langchain_markitdown.base_loader.PptxLoader - INFO - Captioning image: Picture 2 (Format: image/jpeg)\n",
      "2025-04-11 11:30:18,362 - langchain_markitdown.base_loader.PptxLoader - INFO - Generated caption: A close-up shot of traditional Catalan cookies kno...\n",
      "2025-04-11 11:30:18,365 - langchain_markitdown.base_loader.PptxLoader - INFO - Captioning image: Picture 8 (Format: image/jpeg)\n",
      "2025-04-11 11:30:37,974 - langchain_markitdown.base_loader.PptxLoader - INFO - Generated caption: A person is seen packing a bright yellow suitcase ...\n",
      "2025-04-11 11:30:37,978 - langchain_markitdown.base_loader.PptxLoader - INFO - Captioning image: Picture 10 (Format: image/jpeg)\n",
      "2025-04-11 11:30:48,646 - langchain_markitdown.base_loader.PptxLoader - INFO - Generated caption: A couple stands barefoot on a sandy beach, surroun...\n",
      "2025-04-11 11:30:48,650 - langchain_markitdown.base_loader.PptxLoader - INFO - Captioning image: Picture 12 (Format: image/jpeg)\n",
      "2025-04-11 11:31:06,450 - langchain_markitdown.base_loader.PptxLoader - INFO - Generated caption: A person is shown in a plank position on a dark yo...\n",
      "2025-04-11 11:31:06,455 - langchain_markitdown.base_loader.PptxLoader - INFO - Captioning image: Graphic 10 (Format: image/png)\n",
      "2025-04-11 11:31:08,736 - langchain_markitdown.base_loader.PptxLoader - INFO - Generated caption: This image features a simple icon of a document. T...\n",
      "2025-04-11 11:31:08,739 - langchain_markitdown.base_loader.PptxLoader - INFO - Captioning image: Graphic 12 (Format: image/png)\n",
      "2025-04-11 11:31:12,377 - langchain_markitdown.base_loader.PptxLoader - INFO - Generated caption: This image depicts a grey icon of a wrench oriente...\n",
      "2025-04-11 11:31:12,386 - langchain_markitdown.base_loader.PptxLoader - WARNING - Skipping captioning for unsupported image format: application/octet-stream (Shape: Picture 21)\n",
      "2025-04-11 11:31:12,388 - langchain_markitdown.base_loader.PptxLoader - WARNING - Skipping captioning for unsupported image format: application/octet-stream (Shape: Picture 22)\n",
      "2025-04-11 11:31:12,392 - langchain_markitdown.base_loader.PptxLoader - INFO - Captioning image: Graphic 4 (Format: image/png)\n",
      "2025-04-11 11:31:13,323 - langchain_markitdown.base_loader.PptxLoader - INFO - Generated caption: No caption provided for this image....\n",
      "2025-04-11 11:31:13,326 - langchain_markitdown.base_loader.PptxLoader - INFO - Captioning image: Graphic 6 (Format: image/png)\n",
      "2025-04-11 11:31:14,827 - langchain_markitdown.base_loader.PptxLoader - INFO - Generated caption: No caption provided for this image....\n",
      "2025-04-11 11:31:14,830 - langchain_markitdown.base_loader.PptxLoader - INFO - Captioning image: Graphic 10 (Format: image/png)\n",
      "2025-04-11 11:31:16,165 - langchain_markitdown.base_loader.PptxLoader - INFO - Generated caption: No caption provided for this image....\n",
      "2025-04-11 11:31:16,168 - langchain_markitdown.base_loader.PptxLoader - INFO - Captioning image: Graphic 8 (Format: image/png)\n",
      "2025-04-11 11:31:18,795 - langchain_markitdown.base_loader.PptxLoader - INFO - Generated caption: This image depicts a red icon of a laptop. The ico...\n",
      "2025-04-11 11:31:18,803 - langchain_markitdown.base_loader.PptxLoader - INFO - Conversion complete, markdown content length: 3968 characters\n"
     ]
    },
    {
     "name": "stdout",
     "output_type": "stream",
     "text": [
      "15 documents returned\n",
      "\n",
      "source              : ../test_data/test_pptx.pptx\n",
      "file_name           : test_pptx.pptx\n",
      "file_size           : 33213951\n",
      "conversion_success  : True\n",
      "slide_count         : 8\n",
      "author              : Lingineni, Raviteja\n",
      "title               : feedback@customer.cool\n",
      "created             : 2018-06-23 03:43:30\n",
      "modified            : 2025-04-10 19:35:33\n",
      "last_modified_by    : Nathan Sasto\n",
      "revision            : 51\n",
      "image_count         : 12\n",
      "text_box_count      : 2\n",
      "chart_count         : 0\n",
      "table_count         : 0\n",
      "page_number         : 3\n",
      "content_type        : presentation_slide\n",
      "\n",
      "Content:\n",
      "# Pictures and lines\n",
      "\n",
      "![A close-up shot of traditional Catalan cookies known as “panellets.” These spherical treats are coated with pine nuts, giving them a distinctive texture. The cookies have a golden-brown hue, suggesting they are freshly baked, while the pine nuts add a nutty aroma and flavor. The warm lighting highlights their appetizing appeal, making them look like an inviting treat typically enjoyed during the Castanyada, a traditional festival in Catalonia.]()\n",
      "\n",
      "![A person is seen packing a bright yellow suitcase that is resting on a bed. The suitcase is partially filled with neatly folded clothes. In the foreground, next to the suitcase, are travel essentials including a bottle of hand sanitizer, a small bottle of liquid, blue medical face masks, a small bag of almonds, and a pair of sunglasses. Passports are also visible, suggesting preparations for a trip. Sunlight filters into the room, casting soft shadows and creating a warm atmosphere.]()\n",
      "\n",
      "![A person is shown in a plank position on a dark yoga mat, with focus on their hands and forearms. They appear to be indoors, in a space with natural light filtering through curtains. The individual is presumably engaged in a fitness or yoga session. One hand has a wristband, which could be a fitness tracker. The overall scene conveys a sense of calm and concentration.]()\n",
      "\n",
      "![A couple stands barefoot on a sandy beach, surrounded by tranquil water under a clear sky. The woman wears a delicate lace dress and holds a colorful bouquet, while the man is dressed in light pants and a shirt. They embrace tenderly, creating a romantic and peaceful atmosphere by the shoreline.]()\n",
      "\n"
     ]
    }
   ],
   "source": [
    "from langchain_openai import ChatOpenAI\n",
    "from langchain_markitdown import PptxLoader\n",
    "\n",
    "# With a Langchain model\n",
    "llm = ChatOpenAI(model_name=\"gpt-4o\")\n",
    "loader = PptxLoader(file_path=ppt_file, llm=llm, split_by_page=True, verbose=True)\n",
    "documents = loader.load()\n",
    "show_page(documents,4, 10000)"
   ]
  },
  {
   "cell_type": "code",
   "execution_count": null,
   "id": "4e1f69b1",
   "metadata": {},
   "outputs": [],
   "source": []
  },
  {
   "cell_type": "code",
   "execution_count": null,
   "id": "f4111c81",
   "metadata": {},
   "outputs": [],
   "source": []
  }
 ],
 "metadata": {
  "kernelspec": {
   "display_name": ".venv",
   "language": "python",
   "name": "python3"
  },
  "language_info": {
   "codemirror_mode": {
    "name": "ipython",
    "version": 3
   },
   "file_extension": ".py",
   "mimetype": "text/x-python",
   "name": "python",
   "nbconvert_exporter": "python",
   "pygments_lexer": "ipython3",
   "version": "3.10.15"
  }
 },
 "nbformat": 4,
 "nbformat_minor": 5
}
