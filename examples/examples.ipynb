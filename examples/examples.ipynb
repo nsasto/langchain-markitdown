{
 "cells": [
  {
   "cell_type": "code",
   "execution_count": 8,
   "id": "24342abd",
   "metadata": {},
   "outputs": [
    {
     "data": {
      "text/plain": [
       "True"
      ]
     },
     "execution_count": 8,
     "metadata": {},
     "output_type": "execute_result"
    }
   ],
   "source": [
    "import json\n",
    "from dotenv import load_dotenv\n",
    "\n",
    "\n",
    "load_dotenv(override=True)"
   ]
  },
  {
   "cell_type": "code",
   "execution_count": 9,
   "id": "3ffeb5a1",
   "metadata": {},
   "outputs": [],
   "source": [
    "def pretty_print(d):\n",
    "    for key, value in d.items():\n",
    "        print(f\"{key:<20}: {value}\")\n",
    "\n",
    "def show_page(result, page_num=0, char_count=100):\n",
    "    print(f\"{len(result)} documents returned\\n\")\n",
    "    pretty_print(result[page_num].metadata)\n",
    "    print(f\"\\nContent:\")\n",
    "    print(result[page_num].page_content[:char_count])\n"
   ]
  },
  {
   "cell_type": "markdown",
   "id": "432264c9",
   "metadata": {},
   "source": [
    "### XLSX    \n"
   ]
  },
  {
   "cell_type": "code",
   "execution_count": 10,
   "id": "ebc14716",
   "metadata": {},
   "outputs": [],
   "source": [
    "xls= \"../test_data/test_xlsx.xlsx\""
   ]
  },
  {
   "cell_type": "code",
   "execution_count": 11,
   "id": "1b76b799",
   "metadata": {},
   "outputs": [],
   "source": [
    "from langchain_markitdown import XlsxLoader\n",
    "md = XlsxLoader(file_path=xls, split_by_page=True) \n",
    "result = md.load()"
   ]
  },
  {
   "cell_type": "code",
   "execution_count": 12,
   "id": "cfa5288c",
   "metadata": {},
   "outputs": [
    {
     "name": "stdout",
     "output_type": "stream",
     "text": [
      "1 documents returned\n",
      "\n",
      "source              : ../test_data/test_xlsx.xlsx\n",
      "file_name           : test_xlsx.xlsx\n",
      "file_size           : 16213\n",
      "conversion_success  : True\n",
      "page_number         : Sheet1\n",
      "\n",
      "Content:\n",
      "| Unnamed: 0 | First Name | Last Name | Gender | Country | Age | Date | Id |\n",
      "| --- | --- | --- | ---\n"
     ]
    }
   ],
   "source": [
    "show_page(result)"
   ]
  },
  {
   "cell_type": "markdown",
   "id": "247580d0",
   "metadata": {},
   "source": [
    "### Word"
   ]
  },
  {
   "cell_type": "code",
   "execution_count": 13,
   "id": "d441286c",
   "metadata": {},
   "outputs": [],
   "source": [
    "word = \"../test_data/test_docx.docx\"\n",
    "from langchain_markitdown import DocxLoader\n",
    "md = DocxLoader(file_path=word, split_by_page=False) # Set to True to enable plugins\n",
    "result = md.load()"
   ]
  },
  {
   "cell_type": "code",
   "execution_count": 14,
   "id": "86312c6b",
   "metadata": {},
   "outputs": [
    {
     "name": "stdout",
     "output_type": "stream",
     "text": [
      "1 documents returned\n",
      "\n",
      "source              : ../test_data/test_docx.docx\n",
      "file_name           : test_docx.docx\n",
      "file_size           : 327119\n",
      "conversion_success  : True\n",
      "author              : Nathan Sasto\n",
      "created             : 2025-04-08 13:25:00+00:00\n",
      "modified            : 2025-04-08 13:25:00+00:00\n",
      "last_modified_by    : Nathan Sasto\n",
      "revision            : 2\n",
      "content_type        : document_full\n",
      "\n",
      "Content:\n",
      "Lorem ipsum\n",
      "\n",
      "# Lorem ipsum dolor sit amet, consectetur adipiscing elit. Nunc ac faucibus odio.\n",
      "\n",
      "Vest\n"
     ]
    }
   ],
   "source": [
    "show_page(result)"
   ]
  },
  {
   "cell_type": "markdown",
   "id": "8fa37290",
   "metadata": {},
   "source": [
    "### PPT"
   ]
  },
  {
   "cell_type": "code",
   "execution_count": 8,
   "id": "3ce3286f",
   "metadata": {},
   "outputs": [],
   "source": [
    "ppt_file = \"../test_data/test_pptx.pptx\"\n",
    "from langchain_markitdown import PptxLoader\n",
    "md = PptxLoader(file_path=ppt_file, split_by_page=True)\n",
    "result = md.load()"
   ]
  },
  {
   "cell_type": "code",
   "execution_count": null,
   "id": "a09f04fc",
   "metadata": {},
   "outputs": [],
   "source": [
    "show_page(result,4, 10000)"
   ]
  },
  {
   "cell_type": "markdown",
   "id": "ab330ca6",
   "metadata": {},
   "source": [
    "#### Using LLM"
   ]
  },
  {
   "cell_type": "code",
   "execution_count": null,
   "id": "00dac38a",
   "metadata": {},
   "outputs": [],
   "source": [
    "from langchain_openai import ChatOpenAI\n",
    "from langchain_markitdown import PptxLoader\n",
    "\n",
    "# With a Langchain model\n",
    "llm = ChatOpenAI(model_name=\"gpt-4o\")\n",
    "loader = PptxLoader(file_path=ppt_file, llm=llm, split_by_page=True, verbose=True)\n",
    "documents = loader.load()\n",
    "show_page(documents,4, 10000)"
   ]
  },
  {
   "cell_type": "code",
   "execution_count": null,
   "id": "f4111c81",
   "metadata": {},
   "outputs": [],
   "source": []
  }
 ],
 "metadata": {
  "kernelspec": {
   "display_name": ".venv",
   "language": "python",
   "name": "python3"
  },
  "language_info": {
   "codemirror_mode": {
    "name": "ipython",
    "version": 3
   },
   "file_extension": ".py",
   "mimetype": "text/x-python",
   "name": "python",
   "nbconvert_exporter": "python",
   "pygments_lexer": "ipython3",
   "version": "3.10.15"
  }
 },
 "nbformat": 4,
 "nbformat_minor": 5
}
