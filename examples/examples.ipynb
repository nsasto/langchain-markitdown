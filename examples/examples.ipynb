{
 "cells": [
  {
   "cell_type": "code",
   "execution_count": 11,
   "id": "24342abd",
   "metadata": {},
   "outputs": [
    {
     "data": {
      "text/plain": [
       "True"
      ]
     },
     "execution_count": 11,
     "metadata": {},
     "output_type": "execute_result"
    }
   ],
   "source": [
    "import json\n",
    "from dotenv import load_dotenv\n",
    "\n",
    "load_dotenv(override=True)"
   ]
  },
  {
   "cell_type": "code",
   "execution_count": 12,
   "id": "3ffeb5a1",
   "metadata": {},
   "outputs": [],
   "source": [
    "def pretty_print(d):\n",
    "    for key, value in d.items():\n",
    "        print(f\"{key:<20}: {value}\")\n",
    "\n",
    "def show_page(result, page_num=0, char_count=100):\n",
    "    print(f\"{len(result)} documents returned\\n\")\n",
    "    pretty_print(result[page_num].metadata)\n",
    "    print(f\"\\nContent:\")\n",
    "    print(result[page_num].page_content[:char_count])\n"
   ]
  },
  {
   "cell_type": "markdown",
   "id": "432264c9",
   "metadata": {},
   "source": [
    "### XLSX    \n"
   ]
  },
  {
   "cell_type": "code",
   "execution_count": 13,
   "id": "ebc14716",
   "metadata": {},
   "outputs": [],
   "source": [
    "xls= \"../test_data/test_xlsx.xlsx\""
   ]
  },
  {
   "cell_type": "code",
   "execution_count": 14,
   "id": "1b76b799",
   "metadata": {},
   "outputs": [],
   "source": [
    "from langchain_markitdown import XlsxLoader\n",
    "md = XlsxLoader(file_path=xls, split_by_page=True) \n",
    "result = md.load()"
   ]
  },
  {
   "cell_type": "code",
   "execution_count": 15,
   "id": "cfa5288c",
   "metadata": {},
   "outputs": [
    {
     "name": "stdout",
     "output_type": "stream",
     "text": [
      "1 documents returned\n",
      "\n",
      "source              : ../test_data/test_xlsx.xlsx\n",
      "file_name           : test_xlsx.xlsx\n",
      "file_size           : 197566\n",
      "conversion_success  : True\n",
      "page_number         : Sheet1\n",
      "\n",
      "Content:\n",
      "| Unnamed: 0 | First Name | Last Name | Gender | Country | Age | Date | Id |\n",
      "| --- | --- | --- | ---\n"
     ]
    }
   ],
   "source": [
    "show_page(result)"
   ]
  },
  {
   "cell_type": "markdown",
   "id": "247580d0",
   "metadata": {},
   "source": [
    "### Word"
   ]
  },
  {
   "cell_type": "code",
   "execution_count": 16,
   "id": "d441286c",
   "metadata": {},
   "outputs": [],
   "source": [
    "word = \"../test_data/test_docx.docx\"\n",
    "from langchain_markitdown import DocxLoader\n",
    "md = DocxLoader(file_path=word, split_by_page=False) # Set to True to enable plugins\n",
    "result = md.load()"
   ]
  },
  {
   "cell_type": "code",
   "execution_count": 17,
   "id": "86312c6b",
   "metadata": {},
   "outputs": [
    {
     "name": "stdout",
     "output_type": "stream",
     "text": [
      "1 documents returned\n",
      "\n",
      "source              : ../test_data/test_docx.docx\n",
      "file_name           : test_docx.docx\n",
      "file_size           : 327119\n",
      "conversion_success  : True\n",
      "author              : Nathan Sasto\n",
      "created             : 2025-04-08 13:25:00+00:00\n",
      "modified            : 2025-04-08 13:25:00+00:00\n",
      "last_modified_by    : Nathan Sasto\n",
      "revision            : 2\n",
      "content_type        : document_full\n",
      "\n",
      "Content:\n",
      "Lorem ipsum\n",
      "\n",
      "# Lorem ipsum dolor sit amet, consectetur adipiscing elit. Nunc ac faucibus odio.\n",
      "\n",
      "Vest\n"
     ]
    }
   ],
   "source": [
    "show_page(result)"
   ]
  },
  {
   "cell_type": "markdown",
   "id": "8fa37290",
   "metadata": {},
   "source": [
    "### PPT"
   ]
  },
  {
   "cell_type": "code",
   "execution_count": 19,
   "id": "3ce3286f",
   "metadata": {},
   "outputs": [],
   "source": [
    "ppt = \"../test_data/test_pptx.pptx\"\n",
    "from langchain_markitdown import PptxLoader\n",
    "md = PptxLoader(file_path=ppt, split_by_page=True)\n",
    "result = md.load()"
   ]
  },
  {
   "cell_type": "code",
   "execution_count": 20,
   "id": "a09f04fc",
   "metadata": {},
   "outputs": [
    {
     "name": "stdout",
     "output_type": "stream",
     "text": [
      "18 documents returned\n",
      "\n",
      "source              : ../test_data/test_pptx.pptx\n",
      "file_name           : test_pptx.pptx\n",
      "file_size           : 4252311\n",
      "conversion_success  : True\n",
      "slide_count         : 8\n",
      "author              : Lingineni, Raviteja\n",
      "title               : feedback@customer.cool\n",
      "created             : 2018-06-23 03:43:30\n",
      "modified            : 2018-11-23 21:16:55\n",
      "last_modified_by    : Lingineni, Raviteja\n",
      "revision            : 50\n",
      "image_count         : 8\n",
      "text_box_count      : 2\n",
      "chart_count         : 0\n",
      "table_count         : 0\n",
      "image_captioning    : disabled - MarkitdownConverterOptions not available\n",
      "page_number         : 1\n",
      "content_type        : presentation_slide\n",
      "\n",
      "Content:\n",
      "<!-- Slide number: 1 -->\n"
     ]
    }
   ],
   "source": [
    "show_page(result)"
   ]
  },
  {
   "cell_type": "markdown",
   "id": "ab330ca6",
   "metadata": {},
   "source": [
    "### Using LLM"
   ]
  },
  {
   "cell_type": "code",
   "execution_count": null,
   "id": "00dac38a",
   "metadata": {},
   "outputs": [],
   "source": []
  }
 ],
 "metadata": {
  "kernelspec": {
   "display_name": ".venv",
   "language": "python",
   "name": "python3"
  },
  "language_info": {
   "codemirror_mode": {
    "name": "ipython",
    "version": 3
   },
   "file_extension": ".py",
   "mimetype": "text/x-python",
   "name": "python",
   "nbconvert_exporter": "python",
   "pygments_lexer": "ipython3",
   "version": "3.12.2"
  }
 },
 "nbformat": 4,
 "nbformat_minor": 5
}
