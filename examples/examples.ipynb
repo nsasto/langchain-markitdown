{
 "cells": [
  {
   "cell_type": "code",
   "execution_count": null,
   "id": "24342abd",
   "metadata": {},
   "outputs": [],
   "source": [
    "import json\n",
    "from dotenv import load_dotenv\n",
    "\n",
    "\n",
    "load_dotenv(override=True)"
   ]
  },
  {
   "cell_type": "code",
   "execution_count": 2,
   "id": "3ffeb5a1",
   "metadata": {},
   "outputs": [],
   "source": [
    "def pretty_print(d):\n",
    "    for key, value in d.items():\n",
    "        print(f\"{key:<20}: {value}\")\n",
    "\n",
    "def show_page(result, page_num=0, char_count=100):\n",
    "    print(f\"{len(result)} documents returned\\n\")\n",
    "    pretty_print(result[page_num].metadata)\n",
    "    print(f\"\\nContent:\")\n",
    "    print(result[page_num].page_content[:char_count])\n"
   ]
  },
  {
   "cell_type": "markdown",
   "id": "432264c9",
   "metadata": {},
   "source": [
    "### XLSX    \n"
   ]
  },
  {
   "cell_type": "code",
   "execution_count": 3,
   "id": "ebc14716",
   "metadata": {},
   "outputs": [],
   "source": [
    "xls= \"../test_data/test_xlsx.xlsx\""
   ]
  },
  {
   "cell_type": "code",
   "execution_count": 4,
   "id": "1b76b799",
   "metadata": {},
   "outputs": [
    {
     "name": "stderr",
     "output_type": "stream",
     "text": [
      "/home/user/langchain-markitdown/.venv/lib/python3.10/site-packages/pydub/utils.py:170: RuntimeWarning: Couldn't find ffmpeg or avconv - defaulting to ffmpeg, but may not work\n",
      "  warn(\"Couldn't find ffmpeg or avconv - defaulting to ffmpeg, but may not work\", RuntimeWarning)\n"
     ]
    }
   ],
   "source": [
    "from langchain_markitdown import XlsxLoader\n",
    "md = XlsxLoader(file_path=xls, split_by_page=True) \n",
    "result = md.load()"
   ]
  },
  {
   "cell_type": "code",
   "execution_count": 5,
   "id": "cfa5288c",
   "metadata": {},
   "outputs": [
    {
     "name": "stdout",
     "output_type": "stream",
     "text": [
      "1 documents returned\n",
      "\n",
      "source              : ../test_data/test_xlsx.xlsx\n",
      "file_name           : test_xlsx.xlsx\n",
      "file_size           : 16213\n",
      "conversion_success  : True\n",
      "page_number         : Sheet1\n",
      "\n",
      "Content:\n",
      "| Unnamed: 0 | First Name | Last Name | Gender | Country | Age | Date | Id |\n",
      "| --- | --- | --- | ---\n"
     ]
    }
   ],
   "source": [
    "show_page(result)"
   ]
  },
  {
   "cell_type": "markdown",
   "id": "247580d0",
   "metadata": {},
   "source": [
    "### Word"
   ]
  },
  {
   "cell_type": "code",
   "execution_count": 6,
   "id": "d441286c",
   "metadata": {},
   "outputs": [],
   "source": [
    "word = \"../test_data/test_docx.docx\"\n",
    "from langchain_markitdown import DocxLoader\n",
    "md = DocxLoader(file_path=word, split_by_page=False) # Set to True to enable plugins\n",
    "result = md.load()"
   ]
  },
  {
   "cell_type": "code",
   "execution_count": 7,
   "id": "86312c6b",
   "metadata": {},
   "outputs": [
    {
     "name": "stdout",
     "output_type": "stream",
     "text": [
      "1 documents returned\n",
      "\n",
      "source              : ../test_data/test_docx.docx\n",
      "file_name           : test_docx.docx\n",
      "file_size           : 327119\n",
      "conversion_success  : True\n",
      "metadata_extraction_error: No module named 'exceptions'\n",
      "content_type        : document_full\n",
      "\n",
      "Content:\n",
      "Lorem ipsum\n",
      "\n",
      "# Lorem ipsum dolor sit amet, consectetur adipiscing elit. Nunc ac faucibus odio.\n",
      "\n",
      "Vest\n"
     ]
    }
   ],
   "source": [
    "show_page(result)"
   ]
  },
  {
   "cell_type": "markdown",
   "id": "8fa37290",
   "metadata": {},
   "source": [
    "### PPT"
   ]
  },
  {
   "cell_type": "code",
   "execution_count": 8,
   "id": "3ce3286f",
   "metadata": {},
   "outputs": [],
   "source": [
    "ppt_file = \"../test_data/test_pptx.pptx\"\n",
    "from langchain_markitdown import PptxLoader\n",
    "md = PptxLoader(file_path=ppt_file, split_by_page=True)\n",
    "result = md.load()"
   ]
  },
  {
   "cell_type": "code",
   "execution_count": 9,
   "id": "a09f04fc",
   "metadata": {},
   "outputs": [
    {
     "name": "stdout",
     "output_type": "stream",
     "text": [
      "22 documents returned\n",
      "\n",
      "source              : ../test_data/test_pptx.pptx\n",
      "file_name           : test_pptx.pptx\n",
      "file_size           : 33213951\n",
      "conversion_success  : True\n",
      "slide_count         : 8\n",
      "author              : Lingineni, Raviteja\n",
      "title               : feedback@customer.cool\n",
      "created             : 2018-06-23 03:43:30\n",
      "modified            : 2025-04-10 19:35:33\n",
      "last_modified_by    : Nathan Sasto\n",
      "revision            : 51\n",
      "image_count         : 12\n",
      "text_box_count      : 2\n",
      "chart_count         : 0\n",
      "table_count         : 0\n",
      "page_number         : 1\n",
      "content_type        : presentation_slide\n",
      "\n",
      "Content:\n",
      "<!-- Slide number: 1 -->\n"
     ]
    }
   ],
   "source": [
    "show_page(result)"
   ]
  },
  {
   "cell_type": "markdown",
   "id": "ab330ca6",
   "metadata": {},
   "source": [
    "### Using LLM"
   ]
  },
  {
   "cell_type": "code",
   "execution_count": 10,
   "id": "00dac38a",
   "metadata": {},
   "outputs": [
    {
     "name": "stderr",
     "output_type": "stream",
     "text": [
      "2025-04-11 10:05:34,958 - langchain_markitdown.base_loader.PptxLoader - INFO - Initialized PptxLoader for ../test_data/test_pptx.pptx\n",
      "2025-04-11 10:05:34,970 - langchain_markitdown.base_loader.PptxLoader - INFO - Initialized PptxLoader for ../test_data/test_pptx.pptx with split_by_page=True\n",
      "2025-04-11 10:05:34,973 - langchain_markitdown.base_loader.PptxLoader - INFO - Langchain LLM for image captioning: ChatOpenAI\n",
      "2025-04-11 10:05:34,975 - langchain_markitdown.base_loader.PptxLoader - INFO - Starting to load PPTX file: ../test_data/test_pptx.pptx\n",
      "2025-04-11 10:05:34,970 - langchain_markitdown.base_loader.PptxLoader - INFO - Initialized PptxLoader for ../test_data/test_pptx.pptx with split_by_page=True\n",
      "2025-04-11 10:05:34,973 - langchain_markitdown.base_loader.PptxLoader - INFO - Langchain LLM for image captioning: ChatOpenAI\n",
      "2025-04-11 10:05:34,975 - langchain_markitdown.base_loader.PptxLoader - INFO - Starting to load PPTX file: ../test_data/test_pptx.pptx\n",
      "2025-04-11 10:05:35,233 - langchain_markitdown.base_loader.PptxLoader - INFO - Extracting metadata from PPTX file\n",
      "2025-04-11 10:05:35,235 - langchain_markitdown.base_loader.PptxLoader - INFO - Found 8 slides in the presentation\n",
      "2025-04-11 10:05:35,336 - langchain_markitdown.base_loader.PptxLoader - INFO - Converting PPTX to markdown\n",
      "2025-04-11 10:05:35,611 - langchain_markitdown.base_loader.PptxLoader - INFO - Integrating image captions into markdown\n",
      "2025-04-11 10:05:35,806 - langchain_markitdown.base_loader.PptxLoader - INFO - Captioning image: Picture 2 (Format: image/jpeg)\n",
      "2025-04-11 10:05:50,745 - langchain_markitdown.base_loader.PptxLoader - INFO - Generated caption: These are traditional panellets, a popular Catalan...\n",
      "2025-04-11 10:05:50,748 - langchain_markitdown.base_loader.PptxLoader - INFO - Captioning image: Picture 8 (Format: image/jpeg)\n",
      "2025-04-11 10:06:06,302 - langchain_markitdown.base_loader.PptxLoader - INFO - Generated caption: A person is packing a bright yellow suitcase on a ...\n",
      "2025-04-11 10:06:06,306 - langchain_markitdown.base_loader.PptxLoader - INFO - Captioning image: Picture 10 (Format: image/jpeg)\n",
      "2025-04-11 10:06:16,064 - langchain_markitdown.base_loader.PptxLoader - INFO - Generated caption: A couple stands barefoot on a serene beach, with g...\n",
      "2025-04-11 10:06:16,067 - langchain_markitdown.base_loader.PptxLoader - INFO - Captioning image: Picture 12 (Format: image/jpeg)\n",
      "2025-04-11 10:06:35,891 - langchain_markitdown.base_loader.PptxLoader - INFO - Generated caption: A person is performing a plank exercise on a black...\n",
      "2025-04-11 10:06:35,896 - langchain_markitdown.base_loader.PptxLoader - INFO - Captioning image: Graphic 10 (Format: image/png)\n",
      "2025-04-11 10:06:36,937 - langchain_markitdown.base_loader.PptxLoader - INFO - Generated caption: No caption provided for this image....\n",
      "2025-04-11 10:06:36,940 - langchain_markitdown.base_loader.PptxLoader - INFO - Captioning image: Graphic 12 (Format: image/png)\n",
      "2025-04-11 10:06:39,704 - langchain_markitdown.base_loader.PptxLoader - INFO - Generated caption: This image shows a simple gray wrench icon. The wr...\n",
      "2025-04-11 10:06:39,709 - langchain_markitdown.base_loader.PptxLoader - WARNING - Skipping captioning for unsupported image format: application/octet-stream (Shape: Picture 21)\n",
      "2025-04-11 10:06:39,712 - langchain_markitdown.base_loader.PptxLoader - WARNING - Skipping captioning for unsupported image format: application/octet-stream (Shape: Picture 22)\n",
      "2025-04-11 10:06:39,714 - langchain_markitdown.base_loader.PptxLoader - INFO - Captioning image: Graphic 4 (Format: image/png)\n",
      "2025-04-11 10:06:40,840 - langchain_markitdown.base_loader.PptxLoader - INFO - Generated caption: No caption provided for this image....\n",
      "2025-04-11 10:06:40,845 - langchain_markitdown.base_loader.PptxLoader - INFO - Captioning image: Graphic 6 (Format: image/png)\n",
      "2025-04-11 10:06:41,893 - langchain_markitdown.base_loader.PptxLoader - INFO - Generated caption: No caption provided for this image....\n",
      "2025-04-11 10:06:41,897 - langchain_markitdown.base_loader.PptxLoader - INFO - Captioning image: Graphic 10 (Format: image/png)\n",
      "2025-04-11 10:06:43,237 - langchain_markitdown.base_loader.PptxLoader - INFO - Generated caption: No caption provided for this image....\n",
      "2025-04-11 10:06:43,248 - langchain_markitdown.base_loader.PptxLoader - INFO - Captioning image: Graphic 8 (Format: image/png)\n",
      "2025-04-11 10:06:46,097 - langchain_markitdown.base_loader.PptxLoader - INFO - Generated caption: An image is displayed featuring a simple red icon ...\n",
      "2025-04-11 10:06:46,101 - langchain_markitdown.base_loader.PptxLoader - INFO - Conversion complete, markdown content length: 1051 characters\n"
     ]
    }
   ],
   "source": [
    "from langchain_openai import ChatOpenAI\n",
    "from langchain_markitdown import PptxLoader\n",
    "\n",
    "# With a Langchain model\n",
    "llm = ChatOpenAI(model_name=\"gpt-4o\")\n",
    "loader = PptxLoader(file_path=ppt_file, llm=llm, split_by_page=True, verbose=True)\n",
    "documents = loader.load()\n"
   ]
  },
  {
   "cell_type": "code",
   "execution_count": 12,
   "id": "4e1f69b1",
   "metadata": {},
   "outputs": [
    {
     "name": "stdout",
     "output_type": "stream",
     "text": [
      "22 documents returned\n",
      "\n",
      "Header 1            : Pictures and lines\n",
      "source              : ../test_data/test_pptx.pptx\n",
      "file_name           : test_pptx.pptx\n",
      "file_size           : 33213951\n",
      "conversion_success  : True\n",
      "slide_count         : 8\n",
      "author              : Lingineni, Raviteja\n",
      "title               : feedback@customer.cool\n",
      "created             : 2018-06-23 03:43:30\n",
      "modified            : 2025-04-10 19:35:33\n",
      "last_modified_by    : Nathan Sasto\n",
      "revision            : 51\n",
      "image_count         : 12\n",
      "text_box_count      : 2\n",
      "chart_count         : 0\n",
      "table_count         : 0\n",
      "page_number         : 3\n",
      "content_type        : presentation_slide\n",
      "\n",
      "Content:\n",
      "![Close-up of panellets](Picture2.jpg)\n"
     ]
    }
   ],
   "source": [
    "show_page(documents,4, 10000)"
   ]
  },
  {
   "cell_type": "code",
   "execution_count": null,
   "id": "f4111c81",
   "metadata": {},
   "outputs": [],
   "source": []
  }
 ],
 "metadata": {
  "kernelspec": {
   "display_name": ".venv",
   "language": "python",
   "name": "python3"
  },
  "language_info": {
   "codemirror_mode": {
    "name": "ipython",
    "version": 3
   },
   "file_extension": ".py",
   "mimetype": "text/x-python",
   "name": "python",
   "nbconvert_exporter": "python",
   "pygments_lexer": "ipython3",
   "version": "3.10.15"
  }
 },
 "nbformat": 4,
 "nbformat_minor": 5
}
